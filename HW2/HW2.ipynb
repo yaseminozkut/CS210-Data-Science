{
  "nbformat": 4,
  "nbformat_minor": 0,
  "metadata": {
    "colab": {
      "provenance": [],
      "toc_visible": true,
      "include_colab_link": true
    },
    "kernelspec": {
      "name": "python3",
      "display_name": "Python 3"
    }
  },
  "cells": [
    {
      "cell_type": "markdown",
      "metadata": {
        "id": "view-in-github",
        "colab_type": "text"
      },
      "source": [
        "<a href=\"https://colab.research.google.com/github/yaseminozkut/CS210-Data-Science/blob/main/HW2/HW2.ipynb\" target=\"_parent\"><img src=\"https://colab.research.google.com/assets/colab-badge.svg\" alt=\"Open In Colab\"/></a>"
      ]
    },
    {
      "cell_type": "markdown",
      "metadata": {
        "id": "JD9gUM7WW8iT"
      },
      "source": [
        "# Homework 2 - Data Wrangling\n",
        "\n",
        "\n",
        "*In this homework, you are going to work on a real-world dataset and perform some data transformations. We suggest you start the homework early.*\n",
        "\n",
        "**Submission Instructions**\n",
        "\n",
        "---\n",
        "It is important that you follow the submission instructions. \n",
        "1. Copy this assignment notebook to your Drive. <font color = 'red'> `File` --> `Save a copy in Drive`</font>. Rename it as <font color = 'green'>`Lastname_Firstname_hw2`</font>.\n",
        "\n",
        "2. Write your solutions in the cells  marked as <font color = 'green'>`# your code`</font>.\n",
        "\n",
        "3. **Do not delete your outputs**. They are essential for the grading. Make sure that cells containing your solutions are executed, and the results are displayed on the notebook.\n",
        "\n",
        "4. When you're done please submit your solutions as an <font color=\"red\">`.ipynb`</font> file. To do so:\n",
        "\n",
        "\n",
        "  a. Click on <font color=\"red\">`File`</font>  at the top left on the Colab screen, then click on <font color = 'red'>`Download .ipynb`</font>.\n",
        "\n",
        "  b. Then submit the downloaded <font color=\"red\">`.ipynb`</font> version of your work on SUCourse.\n",
        "\n",
        "\n",
        "For any question, please use the discussion page on Sucourse.\n",
        "\n",
        "---\n",
        "\n",
        "**Important Note: In this homework, you are not allowed to use Pandas.**"
      ]
    },
    {
      "cell_type": "code",
      "metadata": {
        "id": "pNfT6vfYaJdL",
        "colab": {
          "base_uri": "https://localhost:8080/"
        },
        "outputId": "7ea41c80-5d76-48ad-eb0f-7d78c0a7ffcc"
      },
      "source": [
        "from google.colab import drive\n",
        "drive.mount('./drive', force_remount=True)\n",
        "\n",
        "path_prefix = './drive/My Drive'"
      ],
      "execution_count": null,
      "outputs": [
        {
          "output_type": "stream",
          "name": "stdout",
          "text": [
            "Mounted at ./drive\n"
          ]
        }
      ]
    },
    {
      "cell_type": "code",
      "metadata": {
        "id": "YBCzbwaj4d5O"
      },
      "source": [
        "import numpy as np\n",
        "import matplotlib.pyplot as plt\n",
        "from os.path import join\n",
        "import re\n",
        "\n",
        "%matplotlib inline"
      ],
      "execution_count": null,
      "outputs": []
    },
    {
      "cell_type": "markdown",
      "metadata": {
        "id": "CDbkvQOd-JUt"
      },
      "source": [
        "## Social Distancing in Venezuela\n",
        "\n",
        "Governments across the globe imposed various NPIs (nonpharmaceutical interventions) to limit the mobility of masses and foster social distancing to prevent more infections. In Venezuela, a survey is conducted to collect public opionion on the impacts of COVID-19, which also captures the tendency to adhere to social distancing rules in public. You may read more about the data in detail from the link below.\n",
        "\n",
        "https://data.humdata.org/dataset/open_one_time_covid_impact\n",
        "\n",
        "In this homework, you are going to be working on a small sample from the original data, `venezuela_covid_impact_soc_dist.csv`, that focuses on social distancing, in which the following fields are stored:\n",
        "\n",
        "```\n",
        "'submission_id', 'submission_date', 'gender', 'age', 'education', 'how_likely_to_social_distance_when_out_in_public'\n",
        "```\n",
        "\n",
        "The first five rows of the file can be viewed below:\n",
        "\n",
        "```\n",
        "submission_id,submission_date,gender,age,education,how_likely_to_social_distance_when_out_in_public\n",
        "4621122344845312,2020   12 26  ,Male,26 to 35 years old,University or college degree completed,Very likely\n",
        "5073314990260224,<li>2020 12 10</li>,Male,16 to 25 years old,Some secondary school / high school,Neither likely nor unlikely\n",
        "5703966068572160,  2020----11++++ 19,Female,36 to 45 years old,Some university or college,Very likely\n",
        "5782300156755968,2020   12 07  ,Male,16 to 25 years old,Secondary/high school,Unlikely\n",
        "\n",
        "```\n",
        "\n",
        "** **Do not forget to add the shared file 'venezuela_covid_impact_soc_dist.csv' to your own drive.** **"
      ]
    },
    {
      "cell_type": "markdown",
      "metadata": {
        "id": "6hlYX4icW1U9"
      },
      "source": [
        "### Q1 - Read the Dataset\n",
        "\n",
        "In the provided dataset, entries are separated by commas. Read and store the file as a 2d numpy array in which columns capture the corresponding fields.\n",
        "\n",
        "- Read the given file into a numpy array.\n",
        "- At the end, print the number of rows and columns.\n",
        "\n",
        "```\n",
        "Number of rows: [...], columns: [...]\n",
        "```\n",
        "\n",
        "*Hint: Do not forget to skip the first line (the header).*"
      ]
    },
    {
      "cell_type": "code",
      "metadata": {
        "id": "fApp4vZf7rXv",
        "colab": {
          "base_uri": "https://localhost:8080/"
        },
        "outputId": "b95e5549-53cd-4356-9047-bae185e5bda5"
      },
      "source": [
        "# your code\n",
        "myArray = []\n",
        "fileName = \"venezuela_covid_impact_soc_dist.csv\"\n",
        "with open(join(path_prefix, fileName)) as f:\n",
        "  for line in f:\n",
        "    entries = line.strip().split(\",\")\n",
        "    myArray.append([entry for entry in entries])\n",
        "\n",
        "myArray = np.array(myArray)\n",
        "myArray = myArray[1:]\n",
        "col = len(myArray[0])\n",
        "row = len(myArray)\n",
        "print(\"Number of rows: \", row, \", columns: \", col, sep=\"\")\n"
      ],
      "execution_count": null,
      "outputs": [
        {
          "output_type": "stream",
          "name": "stdout",
          "text": [
            "Number of rows: 7341, columns: 6\n"
          ]
        }
      ]
    },
    {
      "cell_type": "markdown",
      "metadata": {
        "id": "5hZw2gobH0Fy"
      },
      "source": [
        "### Q2 - Cleaning Date Values\n",
        "\n",
        "During the data collection process, most of the date values were registered with *non-numeric* rubbish characters between the date elements due to a glitch in the system. Some of the examples can be seen below where %Y represents years (e.g. 2021, 2020), %m month as a zero-padded decimal number (e.g. 07, 08) and %d day of the month as a zero-padded decimal number (e.g. 01, 03).\n",
        "\n",
        "```\n",
        "'%Y   %m %d', \n",
        "'  %Y----%m++++ %d', \n",
        "'<li>%Y %m %d</li>', \n",
        "'%Y /||\\ %m %d  ', \n",
        "'<<%Y  %m >> %d'\n",
        "```\n",
        "\n",
        "- You may assume that the order of date elements is always the same in the raw data: %Y %m %d.\n",
        "- Extract the actual date entries from the data. We expect you to use regular expressions for this part.\n",
        "- Rearrange the date values as **'%d-%m-%Y'** in the data (separate them with hypen -).\n",
        "- At the end, print the first three instances of the resulting dates as a list.\n",
        "\n",
        "```\n",
        "['26-12-2020' '10-12-2020' '19-11-2020']\n",
        "```"
      ]
    },
    {
      "cell_type": "code",
      "metadata": {
        "id": "qRJ3r8-vcp3S",
        "colab": {
          "base_uri": "https://localhost:8080/"
        },
        "outputId": "0534a3d7-e70c-4594-98dd-6dfe52343fbd"
      },
      "source": [
        "# your code\n",
        "\n",
        "pattern = r\"[0-9]+\"\n",
        "for eachRow in myArray:\n",
        "  date = eachRow[1]\n",
        "  date = re.findall(pattern, date)\n",
        "  date = date[2] + \"-\" + date[1] + \"-\" + date[0]\n",
        "  eachRow[1] = date\n",
        "\n",
        "first3 = [myArray[0][1], myArray[1][1], myArray[2][1]]\n",
        "print(first3)\n"
      ],
      "execution_count": null,
      "outputs": [
        {
          "output_type": "stream",
          "name": "stdout",
          "text": [
            "['26-12-2020', '10-12-2020', '19-11-2020']\n"
          ]
        }
      ]
    },
    {
      "cell_type": "markdown",
      "metadata": {
        "id": "WkVsm6IHq1Z_"
      },
      "source": [
        "### Q3 - Drop Duplicate Rows\n",
        "\n",
        "As mentioned above, some problems took place during the data collection process and we are suspecting a case of data duplication. In fact, it turns out that there are rows with duplicates in the data. An excerpt from the file can be seen below:\n",
        "\n",
        "```\n",
        "5907953602527232,01-08-2021,Not Available,Not Available,Not Available,Not available,Not Available,Agree,Very likely\n",
        "5907953602527232,01-08-2021,Not Available,Not Available,Not Available,Not available,Not Available,Agree,Very likely\n",
        "5520514392260608,11-16-2020,Female,36 to 45 years old,\"I can afford food, but nothing else\",Secondary school/ high school completed,I am unemployed,Agree,Very likely\n",
        "```\n",
        "\n",
        "- Remove the duplicate rows from the array so that only unique entries are left.\n",
        "- At the end, print the total number of rows in the data after the duplicate removal.\n",
        "\n",
        "```\n",
        "Number of rows after duplicate removal: [...]\n",
        "```"
      ]
    },
    {
      "cell_type": "code",
      "metadata": {
        "id": "Il2yjtDyq7Rv",
        "colab": {
          "base_uri": "https://localhost:8080/"
        },
        "outputId": "f0b772a6-2b07-4b31-d9bd-e67d8f1121c3"
      },
      "source": [
        "# your code\n",
        "print(myArray)\n",
        "myArray = np.unique(myArray, axis=0)\n",
        "\n",
        "newRow = len(myArray)\n",
        "print(\"Number of rows after duplicate removal:\", newRow)\n"
      ],
      "execution_count": null,
      "outputs": [
        {
          "output_type": "stream",
          "name": "stdout",
          "text": [
            "[['4621122344845312' '26-12-2020' 'Male' '26 to 35 years old'\n",
            "  'University or college degree completed' 'Very likely']\n",
            " ['5073314990260224' '10-12-2020' 'Male' '16 to 25 years old'\n",
            "  'Some secondary school / high school' 'Neither likely nor unlikely']\n",
            " ['5703966068572160' '19-11-2020' 'Female' '36 to 45 years old'\n",
            "  'Some university or college' 'Very likely']\n",
            " ...\n",
            " ['6210934403235840' '06-12-2020' 'Female' 'Over 45 years old'\n",
            "  'Some university or college' 'Unlikely']\n",
            " ['4961663884460032' '16-11-2020' 'Male' 'Over 45 years old'\n",
            "  'Post-graduate education' 'Very likely']\n",
            " ['5404959251365888' '21-01-2021' 'Male' '16 to 25 years old'\n",
            "  'Some university or college' 'Likely']]\n",
            "Number of rows after duplicate removal: 7042\n"
          ]
        }
      ]
    },
    {
      "cell_type": "markdown",
      "metadata": {
        "id": "Cv9dk7AefEyd"
      },
      "source": [
        "### Q4 - Number of Entries per Month\n",
        "\n",
        "The users took the survey between November 2020 and January 2021. Display the total number of submissions per each month.\n",
        "\n",
        "- Calculate the number of entries registered in each month.\n",
        "- Display the result as a bar chart in which the bars are sorted wrt count values.\n",
        " \n",
        "![](https://i.ibb.co/5Fsv0Kb/m.png)\n",
        "\n",
        " *Hint: The dates are stored in a pre-defined format (day-month-year) after Q2.*"
      ]
    },
    {
      "cell_type": "code",
      "metadata": {
        "id": "yDeZWy0vfJBl",
        "colab": {
          "base_uri": "https://localhost:8080/",
          "height": 295
        },
        "outputId": "83019a9e-d5f1-4958-a506-5c48b1b04b1b"
      },
      "source": [
        "# your code\n",
        "\n",
        "countNovember = 0\n",
        "countDecember = 0\n",
        "countJanuary = 0\n",
        "for eachRow in myArray:\n",
        "  if eachRow[1][3:5] == \"11\":\n",
        "    countNovember += 1\n",
        "  elif eachRow[1][3:5] == \"12\":\n",
        "    countDecember +=1\n",
        "  elif eachRow[1][3:5] == \"01\":\n",
        "    countJanuary += 1\n",
        "\n",
        "x = [countJanuary, countDecember, countNovember] \n",
        "y = ['2021-01', '2020-12', '2020-11']\n",
        "\n",
        "x,y = zip(*sorted(zip(x,y)))\n",
        "\n",
        "plt.barh(y, x)\n",
        "\n",
        "for x, y in zip(x, y):\n",
        "  plt.text(x, y, f\"{x:.0f}\", verticalalignment=\"center\", fontsize=8)\n",
        "\n",
        "plt.title(\"Number of Entries per Month\")\n",
        "plt.xlabel(\"# of Records\")\n",
        "plt.xlim([0, 3200]) # Set limits for X axis\n",
        "plt.show()\n"
      ],
      "execution_count": null,
      "outputs": [
        {
          "output_type": "display_data",
          "data": {
            "image/png": "[encoded data removed]",
            "text/plain": [
              "<Figure size 432x288 with 1 Axes>"
            ]
          },
          "metadata": {
            "needs_background": "light"
          }
        }
      ]
    },
    {
      "cell_type": "markdown",
      "metadata": {
        "id": "3vUUznH1m2hK"
      },
      "source": [
        "### Q5 - Transforming the Employment Status Column\n",
        "\n",
        "In the survey, the users were asked to provide their education level. Since it was an optional question, some left it empty or prefered not to answer. For the first case, such responses were recored as `Not available`, while the latter as `Prefer not to answer`.\n",
        "\n",
        "In addition, some test takers provided the same answer with slightly different words. For instance, to indicate high school some wrote 'Secondary school/ high school completed', while others simply put 'High school'. To eliminate the inconsistency, we need to replace such entries with a coherent choice. In the dictionary below, keys correspond to the entries that need to be replaced by their associated value.\n",
        "\n",
        "- Replace the given education categories with the provided list.\n",
        "- Remove the rows with `Not available` or `Prefer not to answer` responses.\n",
        "- Finally, print the resulting number of rows and unique education categories .\n",
        "\n",
        "```\n",
        "Number of rows: [...]\n",
        "['High school' 'Post graduate' 'Primary school' 'Technical school' 'University']\n",
        "```"
      ]
    },
    {
      "cell_type": "code",
      "metadata": {
        "id": "XeyXFjMym6j1",
        "colab": {
          "base_uri": "https://localhost:8080/"
        },
        "outputId": "cd500af3-b1e4-42bc-df08-270d3d01c3a7"
      },
      "source": [
        "adj_edu = {\n",
        "    'Secondary school/ high school completed': 'High school',\n",
        "    'Secondary/high school': 'High school',\n",
        "    'Some secondary school / high school': 'High school',\n",
        "    'University or college degree completed': 'University',\n",
        "    'Some university or college': 'University',\n",
        "    'College or university': 'University',\n",
        "    'Technical school diploma or degree completed': 'Technical school',\n",
        "    'Some technical education (e.g polytechnic school)': 'Technical school',\n",
        "    'Post-graduate education': 'Post graduate',\n",
        "    'Some primary education': 'Primary school',\n",
        "    'Primary school completed': 'Primary school'\n",
        "}\n",
        "# your code\n",
        "rowIdx = 0\n",
        "for row in myArray:\n",
        "  if row[4] == \"Not available\":\n",
        "    myArray = np.delete(myArray, rowIdx, axis=0)\n",
        "    rowIdx-=1\n",
        "  elif row[4] == \"Prefer not to answer\":\n",
        "    myArray = np.delete(myArray, rowIdx, axis=0)\n",
        "    rowIdx-=1\n",
        "  rowIdx+=1\n",
        "rowNum=len(myArray)\n",
        "print(\"Number of rows:\", rowNum)\n",
        "\n",
        "for eachRow in myArray:\n",
        "  education = eachRow[4]\n",
        "  for item, keys in adj_edu.items():\n",
        "    if item == education:\n",
        "      eachRow[4] = keys\n",
        "\n",
        "unique = []\n",
        "for eachRow in myArray:\n",
        "  education = eachRow[4]\n",
        "  if education not in unique:\n",
        "    unique.append(education)\n",
        "\n",
        "unique = np.array(unique)\n",
        "print(unique)\n"
      ],
      "execution_count": null,
      "outputs": [
        {
          "output_type": "stream",
          "name": "stdout",
          "text": [
            "Number of rows: 6962\n",
            "['University' 'High school' 'Technical school' 'Post graduate'\n",
            " 'Primary school']\n"
          ]
        }
      ]
    },
    {
      "cell_type": "markdown",
      "metadata": {
        "id": "P2PXxdSEuF9e"
      },
      "source": [
        "### Q6 - Social Distancing & Education\n",
        "\n",
        "Lastly, we want to understand the relationship between education and adherence to social distancing. In the `how_likely_to_social_distance_when_out_in_public` column, there are five different replies, ranged between `'Very unlikely'` to `'Very likely'`. Here, we want to calculate the likelihood of getting `'Very likely'` replies conditioned on education status. In particular, you'll find the education category that maximizes this probability.\n",
        "\n",
        "\n",
        "\n",
        "$\\DeclareMathOperator*{\\argmax}{argmax} \\argmax\\limits_{\\small{edu} \\, \\in \\, \\text{Education Category}}\\;P(\\text{Social Distancing}=\\text{'Very likely'}|\\text{Education Category}=\\text{edu})$\n",
        "\n",
        "- For each education category, calculate the conditional probability above.\n",
        "- Get the one that returns the highest. \n",
        "- At the end, print the education category and its probability value.\n",
        "\n",
        "```\n",
        "Post graduate: [...]\n",
        "```"
      ]
    },
    {
      "cell_type": "code",
      "metadata": {
        "id": "s3fs58kXuLZM",
        "colab": {
          "base_uri": "https://localhost:8080/"
        },
        "outputId": "a9850709-7652-4884-a053-2992c2ab820c"
      },
      "source": [
        "# your solution\n",
        "countUni = 0\n",
        "countHighS = 0\n",
        "countTechS = 0\n",
        "countPostG = 0\n",
        "countPrimS = 0\n",
        "\n",
        "uniLikely = 0\n",
        "highLikely = 0\n",
        "techLikely = 0\n",
        "postLikely = 0\n",
        "primLikely = 0\n",
        "\n",
        "for eachRow in myArray:\n",
        "  if eachRow[4] == \"University\":\n",
        "    countUni += 1\n",
        "    if eachRow[5] == \"Very likely\":\n",
        "      uniLikely += 1\n",
        "\n",
        "  elif eachRow[4] == \"High school\":\n",
        "    countHighS +=1\n",
        "    if eachRow[5] == \"Very likely\":\n",
        "      highLikely += 1\n",
        "\n",
        "  elif eachRow[4] == \"Technical school\":\n",
        "    countTechS +=1\n",
        "    if eachRow[5] == \"Very likely\":\n",
        "      techLikely += 1\n",
        "\n",
        "  elif eachRow[4] == \"Post graduate\":\n",
        "    countPostG += 1\n",
        "    if eachRow[5] == \"Very likely\":\n",
        "      postLikely += 1\n",
        "\n",
        "  elif eachRow[4] == \"Primary school\":\n",
        "    countPrimS += 1\n",
        "    if eachRow[5] == \"Very likely\":\n",
        "      primLikely += 1\n",
        "\n",
        "uniP = uniLikely/countUni\n",
        "highP = highLikely/countHighS\n",
        "techP = techLikely/countTechS\n",
        "postP = postLikely/countPostG\n",
        "primP = primLikely/countPrimS\n",
        "\n",
        "probList =[uniP, highP, techP, postP, primP]\n",
        "eduList = [\"University\", \"High school\", \"Technical school\", \"Post graduate\", \"Primary school\"]\n",
        "\n",
        "index = 0\n",
        "for prob in probList:\n",
        "  if prob == max(probList):\n",
        "    eduName = eduList[index]\n",
        "  index += 1\n",
        "\n",
        "print(eduName, \": \", max(probList), sep=\"\")\n",
        "\n"
      ],
      "execution_count": null,
      "outputs": [
        {
          "output_type": "stream",
          "name": "stdout",
          "text": [
            "Post graduate: 0.5345268542199488\n"
          ]
        }
      ]
    }
  ]
}