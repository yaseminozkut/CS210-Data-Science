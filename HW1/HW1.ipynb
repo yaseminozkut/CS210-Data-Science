{
  "nbformat": 4,
  "nbformat_minor": 0,
  "metadata": {
    "colab": {
      "provenance": [],
      "include_colab_link": true
    },
    "kernelspec": {
      "name": "python3",
      "display_name": "Python 3"
    }
  },
  "cells": [
    {
      "cell_type": "markdown",
      "metadata": {
        "id": "view-in-github",
        "colab_type": "text"
      },
      "source": [
        "<a href=\"https://colab.research.google.com/github/yaseminozkut/CS210-Data-Science/blob/main/HW1/HW1.ipynb\" target=\"_parent\"><img src=\"https://colab.research.google.com/assets/colab-badge.svg\" alt=\"Open In Colab\"/></a>"
      ]
    },
    {
      "cell_type": "markdown",
      "metadata": {
        "id": "JD9gUM7WW8iT"
      },
      "source": [
        "# Homework 1 - Practicing Python\n",
        "\n",
        "\n",
        "*In the first homework, you are going to work on a set of Python exercises.*\n",
        "\n",
        "**Submission Instructions**\n",
        "\n",
        "---\n",
        "It is important that you follow the submission instructions. \n",
        "1. Copy this assignment notebook to your Drive. <font color = 'red'> `File` --> `Save a copy in Drive`</font>. Rename it as <font color = 'green'>`Lastname_Firstname_hw1`</font>.\n",
        "\n",
        "2. Write your solutions in the cells  marked <font color = 'green'>`# your code`</font>.\n",
        "\n",
        "3. Do not delete your outputs. They are essential for the grading. Make sure that cells containing your solutions are executed, and the results are displayed on the notebook.\n",
        "\n",
        "4. When you're done please submit your solutions as an <font color=\"red\">`.ipynb`</font> file. To do so:\n",
        "\n",
        "\n",
        "  a. Click on <font color=\"red\">`File`</font>  at the top left on the Colab screen, then click on <font color = 'red'>`Download .ipynb`</font>.\n",
        "\n",
        "  b. Then submit the downloaded <font color=\"red\">`.ipynb`</font> version of your work on SUCourse.\n",
        "\n",
        "\n",
        "For any question, you may send an email to the TAs and LAs.\n",
        "\n",
        "---\n",
        "\n",
        "**Important Note:**   \n",
        "In this homework, you do not need to use any libraries than the built-in ones. Hence, you are not allowed to use any libraries, other than the [`pprint`](https://docs.python.org/3/library/pprint.html) library to produce better looking outputs. If you have doubt on what to use what not to use please ask your question in the SuCourse Homework Q&A forum."
      ]
    },
    {
      "cell_type": "markdown",
      "metadata": {
        "id": "rYfw-eaiBOBJ"
      },
      "source": [
        "## 15 points - Q1: Find the Office Hour, Given the TA\n",
        "\n",
        "In the cell below, you have three lists containing the TA names and their day of office hour in the same order.\n",
        "\n",
        "Here, your goal is to write a fuction named `TA_day` that will return the day and hour of a particular TA. E.g.,\n",
        "\n",
        "```py\n",
        ">>> TA_day(TA_name='Ozgur Can Seckin')\n",
        "Tuesday, 17:40-18:30\n",
        "```\n",
        "\n",
        "After defining your function as such, please find the day and hour for **Mutlu Soruklu**"
      ]
    },
    {
      "cell_type": "code",
      "metadata": {
        "id": "_RCO6nIyEpv1"
      },
      "source": [
        "TA_names = ['Ege Alpay', 'Hasan Alp Boz', 'Mutlu Soruklu', 'Ozgur Can Seckin']\n",
        "office_days = ['Friday', 'Tuesday', 'Monday', 'Tuesday']\n",
        "office_hours = ['18:40 - 19:30', '9:40-10:30', '17:40 - 18:30', '17:40 - 18:30']"
      ],
      "execution_count": null,
      "outputs": []
    },
    {
      "cell_type": "code",
      "metadata": {
        "id": "VsigiNj3FzgF",
        "colab": {
          "base_uri": "https://localhost:8080/"
        },
        "outputId": "c6529bc0-caee-4ad7-ecd7-86b02dd4a0dd"
      },
      "source": [
        "# your code \n",
        "def TA_day(TA_name):\n",
        "  index = 0\n",
        "  for TA in TA_names:\n",
        "    if TA != TA_name:\n",
        "      index = index+1\n",
        "    else:\n",
        "      day = office_days[index]\n",
        "      hour = office_hours[index]\n",
        "      print(day + \", \" + hour)\n",
        "\n",
        "#examples:\n",
        "TA_day(\"Ege Alpay\")\n",
        "TA_day(\"Hasan Alp Boz\")\n",
        "TA_day(\"Mutlu Soruklu\")\n",
        "TA_day(\"Ozgur Can Seckin\")"
      ],
      "execution_count": null,
      "outputs": [
        {
          "output_type": "stream",
          "name": "stdout",
          "text": [
            "Friday, 18:40 - 19:30\n",
            "Tuesday, 9:40-10:30\n",
            "Monday, 17:40 - 18:30\n",
            "Tuesday, 17:40 - 18:30\n"
          ]
        }
      ]
    },
    {
      "cell_type": "markdown",
      "metadata": {
        "id": "DwskSV1dAeoR"
      },
      "source": [
        "## 30 points - Q2: Inflation Rates\n",
        "\n",
        "Inflation rates measured by consumer price index for 38 distinct countries and OECD average were taken from:\n",
        "https://data.oecd.org/price/inflation-cpi.htm\n",
        "\n",
        "Each line stores the country name, year and related inflation rate, seperated by a **semicolon**.\n",
        "\n",
        "In total, we have 195 lines where the inflation rates are given for years between 2016 and 2020.\n",
        "\n",
        "\n",
        "<img src=\"https://i.ibb.co/bBzypPS/Q2-OECD.png\"></img>\n",
        "\n",
        "*Do not forget to add the shared file and then mount to your drive. Otherwise, you won't be able to read the file. If you do not know how, please go back to Week 1 videos.*\n",
        "\n",
        "**Attention: You may want to transform the string to numbers by using float() function**"
      ]
    },
    {
      "cell_type": "markdown",
      "metadata": {
        "id": "EJdIEenmj6W_"
      },
      "source": [
        "### 15 points - **Part A**\n",
        "In this part, you should - by using the inflation_data.csv file under assignment folder:\n",
        "1. Find the **mean inflation rates** for Turkey and Germany (denoted as TUR and DEU in the data, respectively) between years 2016 and 2020 and print the results.\n",
        "2. Calculate the **difference between means** and print the result.\n",
        "\n",
        "![](https://i.ibb.co/L0JTk8V/Q2-OECD.png)"
      ]
    },
    {
      "cell_type": "code",
      "metadata": {
        "id": "tbaryKClTz5Z",
        "colab": {
          "base_uri": "https://localhost:8080/"
        },
        "outputId": "1de00f07-eea5-4d88-94aa-f5b5b00d6c9f"
      },
      "source": [
        "from google.colab import drive\n",
        "drive.mount(\"./drive/\", force_remount=True)"
      ],
      "execution_count": null,
      "outputs": [
        {
          "output_type": "stream",
          "name": "stdout",
          "text": [
            "Mounted at ./drive/\n"
          ]
        }
      ]
    },
    {
      "cell_type": "code",
      "metadata": {
        "id": "NnRDeA3_SPi0",
        "colab": {
          "base_uri": "https://localhost:8080/"
        },
        "outputId": "cf1e3d16-6514-4f3f-d1a7-2364060be341"
      },
      "source": [
        "# your code\n",
        "from os.path import join\n",
        "path_prefix = \"./drive/My Drive\"\n",
        "filename = \"inflation_data.csv\"\n",
        "\n",
        "with open(join(path_prefix, filename), \"r\") as f:\n",
        "  TurkeyTotal = 0\n",
        "  Turkey_list=[]\n",
        "  GermanyTotal = 0\n",
        "  Germany_list = []\n",
        "  for line in f:\n",
        "    l = line.strip().split(\";\")\n",
        "    country = l[0]\n",
        "    year = l[1]\n",
        "    inflation_rate = float(l[2].replace(\",\",\".\"))\n",
        "    \n",
        "    if (country == \"TUR\"):\n",
        "      Turkey_list.append(inflation_rate)\n",
        "    if (country == \"DEU\"):\n",
        "      Germany_list.append(inflation_rate)\n",
        "\n",
        "  for i in Turkey_list:\n",
        "    TurkeyTotal += i\n",
        "  for i in Germany_list:\n",
        "    GermanyTotal += i\n",
        "  \n",
        "  print(\"Mean inflation rate of Turkey:\", TurkeyTotal/5)\n",
        "  print(\"Mean inflation rate of Germany:\", GermanyTotal/5)\n",
        "\n",
        "  print(\"Difference between inflation rates of Turkey and Germany:\", (TurkeyTotal/5)-(GermanyTotal/5))\n",
        "\n",
        "\n"
      ],
      "execution_count": null,
      "outputs": [
        {
          "output_type": "stream",
          "name": "stdout",
          "text": [
            "Mean inflation rate of Turkey: 12.5415368\n",
            "Mean inflation rate of Germany: 1.1371541\n",
            "Difference between inflation rates of Turkey and Germany: 11.4043827\n"
          ]
        }
      ]
    },
    {
      "cell_type": "markdown",
      "metadata": {
        "id": "pIBUWMoXSSwr"
      },
      "source": [
        "### 15 points - **Part B**\n",
        "\n",
        "Find the country with the minimum mean inflation rate (note that it might be negative!)\n",
        "\n",
        "![](https://i.ibb.co/hBsTWvs/Q2-OECD-2.png)"
      ]
    },
    {
      "cell_type": "code",
      "metadata": {
        "id": "laBFy2HkSXpC",
        "colab": {
          "base_uri": "https://localhost:8080/"
        },
        "outputId": "6a7b3086-e9a9-4a7f-ba5b-fcaab9e94315"
      },
      "source": [
        "# your code\n",
        "from os.path import join\n",
        "path_prefix = \"./drive/My Drive\"\n",
        "filename = \"inflation_data.csv\"\n",
        "\n",
        "with open(join(path_prefix, filename), \"r\") as f:\n",
        "  totalInf = 0\n",
        "  minMean = 0\n",
        "  tempCountry = \"\"\n",
        "  minCountry = \"\"\n",
        "  count = 0\n",
        "  for line in f:\n",
        "    l = line.strip().split(\";\")\n",
        "    country = l[0]\n",
        "    year = l[1]\n",
        "    inflation_rate = float(l[2].replace(\",\",\".\"))\n",
        "    if country != tempCountry:\n",
        "      totalInf = 0\n",
        "      count = 0\n",
        "      tempCountry = country\n",
        "    totalInf += inflation_rate\n",
        "    count += 1\n",
        "    if count == 5:\n",
        "      if totalInf/5 < minMean:\n",
        "        minMean = totalInf/5\n",
        "        minCountry = country\n",
        "\n",
        "  #my output\n",
        "  print(\"Country with the minimum mean inflation rate:\", minCountry)\n",
        "  print(\"It's mean:\", minMean)\n",
        "\n",
        "\n"
      ],
      "execution_count": null,
      "outputs": [
        {
          "output_type": "stream",
          "name": "stdout",
          "text": [
            "Country with the minimum mean inflation rate: GRC\n",
            "It's mean: -0.014751480000000016\n"
          ]
        }
      ]
    },
    {
      "cell_type": "markdown",
      "metadata": {
        "id": "srIzF7eJYUAW"
      },
      "source": [
        "## 25 points - Q3: Transposing a List of Lists\n",
        "\n",
        "List/array reshaping is one of the most fundamental operations in data manipulation. In the figure below, you see a 4x3 dimensional list of lists (a list that contains lists) named `arr` that has integers from 1 to 12. We can take the transpose of this 4x3 list and transform it into a 3x4 list. \n",
        "\n",
        "![](https://i.ibb.co/K7CXTZX/Q3-transposed.png)\n",
        "\n",
        "By referencing the figure above, write a function named `transpose` which will take the transpose of the desired matrix. At the end, it should return the resulting matrix.\n",
        "\n",
        "```py\n",
        ">>> arr = [[1, 2, 3, 4], [5, 6, 7, 8], [9, 10, 11, 12]]\n",
        ">>> transpose(arr)\n",
        "[[1, 5, 9], [2, 6, 10], [3, 7, 11], [4, 8, 12]]\n",
        "```\n",
        "\n",
        "If the given list of lists does not represent a proper matrix (e.g., [[1,2], [3,4,5]] then, it should return \"Not a proper matrix\"\n",
        "\n",
        "```py\n",
        ">>> arr = [[1, 2, 3], [5, 6]]\n",
        ">>> transpose(arr)\n",
        "\"Not a proper matrix\"\n",
        "```"
      ]
    },
    {
      "cell_type": "code",
      "metadata": {
        "id": "iZgKbmvbZM61",
        "colab": {
          "base_uri": "https://localhost:8080/"
        },
        "outputId": "1f12952f-2648-4627-f2d4-e012683b39e8"
      },
      "source": [
        "arr = [[1, 2, 3, 4], [5, 6, 7, 8], [9, 10, 11, 12]]\n",
        "\n",
        "# your code\n",
        "def transpose(arr):\n",
        "  size = len(arr[0])\n",
        "  check = True\n",
        "  for i in range(len(arr)):\n",
        "    if len(arr[i]) != size:\n",
        "      check = False\n",
        "\n",
        "  if check == False:\n",
        "    print(\"Not a proper matrix\")\n",
        "\n",
        "  else:\n",
        "    transposeMatrix = []\n",
        "    for i in range(len(arr[0])):\n",
        "      newElement = []\n",
        "      for j in range(len(arr)):\n",
        "        newElement.append(arr[j][i])\n",
        "      transposeMatrix.append(newElement)\n",
        "    \n",
        "    return transposeMatrix\n",
        "\n",
        "\n",
        "transpose(arr)\n"
      ],
      "execution_count": null,
      "outputs": [
        {
          "output_type": "execute_result",
          "data": {
            "text/plain": [
              "[[1, 5, 9], [2, 6, 10], [3, 7, 11], [4, 8, 12]]"
            ]
          },
          "metadata": {},
          "execution_count": 74
        }
      ]
    },
    {
      "cell_type": "code",
      "metadata": {
        "colab": {
          "base_uri": "https://localhost:8080/"
        },
        "id": "YwtmaezkVXWU",
        "outputId": "6a4bf7c0-fc3e-4696-98d5-e873592c154f"
      },
      "source": [
        "arr2 = [[1, 2, 3], [5, 6]]\n",
        "transpose(arr2)"
      ],
      "execution_count": null,
      "outputs": [
        {
          "output_type": "stream",
          "name": "stdout",
          "text": [
            "Not a proper matrix\n"
          ]
        }
      ]
    },
    {
      "cell_type": "markdown",
      "metadata": {
        "id": "_0FzjI4Li18J"
      },
      "source": [
        "## 30 points - Q4: Most Frequent Bigram in a File\n",
        "\n",
        "`A pair of consecutive written words is called a bigram. For instance, if we were to find the bigrams in the sentence \"The quick brown fox jumps over the lazy dog.\", we would get [\"The quick\", \"quick brown\", \"brown fox\", ... \"the lazy\", \"lazy dog.\"]`\n",
        "\n",
        "In the assignment folder, you have a file named `best_song.txt` which stores the lyrics to the best song ever written by anyone:\n",
        "https://i.ibb.co/cb4B8sy/best-song.jpg\n",
        "\n",
        "Write a function named `most_used_bigram` which will take a file name as its single parameter and then reads and returns the **most frequently used bigram** and **how many times it has occurred** in the text.\n",
        "\n",
        "```py\n",
        ">>> most_used, times_used = most_used_bigram(\"best_song.txt\")\n",
        "```\n",
        "\n",
        "*Do not forget to add the shared file and then mount to your drive. Otherwise, you won't be able to read the file.*"
      ]
    },
    {
      "cell_type": "code",
      "metadata": {
        "id": "DEQOU3viZAfj",
        "colab": {
          "base_uri": "https://localhost:8080/"
        },
        "outputId": "a9839346-5b88-44c9-fffe-6bc34602f341"
      },
      "source": [
        "# Your code\n",
        "def most_used_bigram(filename):\n",
        "  from os.path import join\n",
        "  path_prefix = \"./drive/My Drive\"\n",
        "  with open(join(path_prefix, filename), \"r\") as f:\n",
        "    biagrams = {}\n",
        "    tempBiagram = \"\"\n",
        "    for line in f:\n",
        "      l = line.strip(\"\\n\").split(\" \")\n",
        "      for i in range(len(l)-1):\n",
        "        tempBiagram = l[i] + \" \" + l[i+1]\n",
        "        if tempBiagram not in biagrams:\n",
        "          biagrams[tempBiagram] =1\n",
        "        else:\n",
        "          biagrams[tempBiagram] += 1\n",
        "\n",
        "    maxBiagram = max(biagrams.values())\n",
        "    for key, value in biagrams.items():\n",
        "      if value == maxBiagram:\n",
        "        return key, value\n",
        "\n",
        "\n",
        "\n",
        "most_used_bigram(\"best_song.txt\")"
      ],
      "execution_count": null,
      "outputs": [
        {
          "output_type": "execute_result",
          "data": {
            "text/plain": [
              "('Never gonna', 36)"
            ]
          },
          "metadata": {},
          "execution_count": 35
        }
      ]
    }
  ]
}